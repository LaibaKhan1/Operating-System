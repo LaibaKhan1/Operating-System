{
 "cells": [
  {
   "cell_type": "markdown",
   "id": "a830f7c2",
   "metadata": {},
   "source": [
    "## Task 01:"
   ]
  },
  {
   "cell_type": "code",
   "execution_count": 3,
   "id": "b60ce10e",
   "metadata": {},
   "outputs": [
    {
     "name": "stdout",
     "output_type": "stream",
     "text": [
      "[[7, 4, 3], [1, 2, 2], [6, 0, 0], [0, 1, 1], [4, 3, 1]]\n",
      "[1, 3, 4, 0, 2]\n"
     ]
    }
   ],
   "source": [
    "process = [0,0,0,0,0]\n",
    "Allocation = [[0,1,0], [2,0,0], [3,0,2], [2,1,1], [0,0,2]]\n",
    "Max = [[7,5,3], [3,2,2], [9,0,2], [2,2,2], [4,3,3]]\n",
    "Need = []\n",
    "a = [3,3,2]\n",
    "for i in range (len(Allocation)):\n",
    "    l = []\n",
    "    for j in range(len(Allocation[i])):\n",
    "        l.append(Max[i][j] - Allocation[i][j])\n",
    "    Need.append(l)\n",
    "        \n",
    "print(Need)\n",
    "\n",
    "p = []\n",
    "comp = 0\n",
    "while comp != len(process):\n",
    "    safe = False\n",
    "    for i in range (len(Allocation)):\n",
    "        if process[i] == 1:\n",
    "            continue\n",
    "        run = True\n",
    "        for j in range (len(Need[i])):\n",
    "            if a[j] >= Need[i][j]:\n",
    "                pass\n",
    "            else:\n",
    "                run = False\n",
    "        if run == True:\n",
    "            comp = comp + 1 \n",
    "            for k in range (len(a)):\n",
    "                a[k] = a[k] + Allocation[i][k]\n",
    "            process[i] = 1\n",
    "            safe = True \n",
    "            p.append(i)\n",
    "\n",
    "    if safe == True:\n",
    "        continue\n",
    "    else:\n",
    "        break\n",
    "        \n",
    "print(p)        "
   ]
  },
  {
   "cell_type": "markdown",
   "id": "61b1b7db",
   "metadata": {},
   "source": [
    "## Task 02:"
   ]
  },
  {
   "cell_type": "code",
   "execution_count": 1,
   "id": "c9aebfad",
   "metadata": {},
   "outputs": [
    {
     "name": "stdout",
     "output_type": "stream",
     "text": [
      "Allocation Table:\n",
      "Process |  A  |  B  |  C\n",
      "P0      | 0  | 1  | 0\n",
      "P1      | 2  | 0  | 0\n",
      "P2      | 3  | 0  | 2\n",
      "P3      | 2  | 1  | 1\n",
      "P4      | 0  | 0  | 2\n",
      "\n",
      "Max Table:\n",
      "Process |  A  |  B  |  C\n",
      "P0      | 7  | 5  | 3\n",
      "P1      | 3  | 2  | 2\n",
      "P2      | 9  | 0  | 2\n",
      "P3      | 2  | 2  | 2\n",
      "P4      | 4  | 3  | 3\n",
      "\n",
      "Need Table:\n",
      "Process |  A  |  B  |  C\n",
      "P0      | 7  | 4  | 3\n",
      "P1      | 1  | 2  | 2\n",
      "P2      | 6  | 0  | 0\n",
      "P3      | 0  | 1  | 1\n",
      "P4      | 4  | 3  | 1\n",
      "\n",
      "Available Resources:\n",
      "A  |  B  |  C\n",
      "3  | 3  | 2\n",
      "\n",
      "Request can be safely granted.\n"
     ]
    },
    {
     "data": {
      "text/plain": [
       "True"
      ]
     },
     "execution_count": 1,
     "metadata": {},
     "output_type": "execute_result"
    }
   ],
   "source": [
    "import numpy as np\n",
    "\n",
    "def is_safe_state(allocation, max_resources, available_resources, need, process, request):\n",
    "    if any(request > need[process]):\n",
    "        print(\"Error: Request exceeds process need.\")\n",
    "        return False\n",
    "    if any(request > available_resources):\n",
    "        print(\"Process must wait, resources not available.\")\n",
    "        return False\n",
    "    available_resources -= request\n",
    "    allocation[process] += request\n",
    "    need[process] -= request\n",
    "    if is_safe_state_check(allocation, max_resources, available_resources, need):\n",
    "        print(\"Request can be safely granted.\")\n",
    "        return True\n",
    "    else:\n",
    "        available_resources += request\n",
    "        allocation[process] -= request\n",
    "        need[process] += request\n",
    "        print(\"Request cannot be granted. Reverting changes.\")\n",
    "        return False\n",
    "def is_safe_state_check(allocation, max_resources, available_resources, need):\n",
    "    num_processes = len(allocation)\n",
    "    finish = np.zeros(num_processes, dtype=bool)\n",
    "    work = np.copy(available_resources)\n",
    "    count = 0\n",
    "    while count < num_processes:\n",
    "        found = False\n",
    "        for i in range(num_processes):\n",
    "            if not finish[i] and all(need[i] <= work):\n",
    "                work += allocation[i]\n",
    "                finish[i] = True\n",
    "                count += 1\n",
    "                found = True\n",
    "        if not found:\n",
    "            break\n",
    "    return count == num_processes\n",
    "# Given data\n",
    "num_processes = 5\n",
    "num_resources = 3\n",
    "\n",
    "allocation = np.array([\n",
    "    [0, 1, 0],\n",
    "    [2, 0, 0],\n",
    "    [3, 0, 2],\n",
    "    [2, 1, 1],\n",
    "    [0, 0, 2]\n",
    "])\n",
    "max_resources = np.array([\n",
    "    [7, 5, 3],\n",
    "    [3, 2, 2],\n",
    "    [9, 0, 2],\n",
    "    [2, 2, 2],\n",
    "    [4, 3, 3]\n",
    "])\n",
    "available_resources = np.array([3, 3, 2])\n",
    "need = max_resources - allocation\n",
    "print(\"Allocation Table:\")\n",
    "print(\"Process |  A  |  B  |  C\")\n",
    "for i in range(num_processes):\n",
    "    print(f\"P{i}      | {allocation[i][0]}  | {allocation[i][1]}  | {allocation[i][2]}\")\n",
    "print()\n",
    "\n",
    "print(\"Max Table:\")\n",
    "print(\"Process |  A  |  B  |  C\")\n",
    "for i in range(num_processes):\n",
    "    print(f\"P{i}      | {max_resources[i][0]}  | {max_resources[i][1]}  | {max_resources[i][2]}\")\n",
    "print()\n",
    "\n",
    "print(\"Need Table:\")\n",
    "print(\"Process |  A  |  B  |  C\")\n",
    "for i in range(num_processes):\n",
    "    print(f\"P{i}      | {need[i][0]}  | {need[i][1]}  | {need[i][2]}\")\n",
    "print()\n",
    "\n",
    "print(\"Available Resources:\")\n",
    "print(f\"A  |  B  |  C\")\n",
    "print(f\"{available_resources[0]}  | {available_resources[1]}  | {available_resources[2]}\")\n",
    "print()\n",
    "\n",
    "process_to_request = 1\n",
    "request = np.array([1, 0, 2])\n",
    "is_safe_state(allocation, max_resources, available_resources, need, process_to_request, request)"
   ]
  },
  {
   "cell_type": "code",
   "execution_count": null,
   "id": "ccece13b",
   "metadata": {},
   "outputs": [],
   "source": []
  }
 ],
 "metadata": {
  "kernelspec": {
   "display_name": "Python 3 (ipykernel)",
   "language": "python",
   "name": "python3"
  },
  "language_info": {
   "codemirror_mode": {
    "name": "ipython",
    "version": 3
   },
   "file_extension": ".py",
   "mimetype": "text/x-python",
   "name": "python",
   "nbconvert_exporter": "python",
   "pygments_lexer": "ipython3",
   "version": "3.10.12"
  }
 },
 "nbformat": 4,
 "nbformat_minor": 5
}

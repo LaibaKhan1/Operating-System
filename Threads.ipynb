{
 "cells": [
  {
   "cell_type": "code",
   "execution_count": 24,
   "id": "d98f615c",
   "metadata": {},
   "outputs": [
    {
     "name": "stdout",
     "output_type": "stream",
     "text": [
      "Produced 1 [1]\n",
      "Consumed 1 []\n"
     ]
    }
   ],
   "source": [
    "import threading\n",
    "import random\n",
    "import time\n",
    "buf = []\n",
    "empty = threading.Semaphore(5)\n",
    "full = threading.Semaphore(0)\n",
    "mutex = threading.Lock() \n",
    " \n",
    "def producer():\n",
    "    nums = range(5)\n",
    "    global buf\n",
    "    num = random.choice(nums)\n",
    "    empty.acquire()\n",
    "    mutex.acquire() # added\n",
    "    buf.append(num)\n",
    "    print(\"Produced\", num, buf)\n",
    "    mutex.release() # added\n",
    "    full.release()\n",
    "    time.sleep(1)\n",
    "\n",
    "def consumer():\n",
    " \n",
    "    global buf\n",
    "    full.acquire()\n",
    "    mutex.acquire() # added\n",
    "    num = buf.pop(0)\n",
    "    print(\"Consumed\", num, buf)\n",
    "    mutex.release() # added\n",
    "    empty.release()\n",
    "    time.sleep(2)\n",
    "producerThread1 = threading.Thread(target=producer)\n",
    "producerThread1 = threading.Thread(target=producer)\n",
    "producerThread1 = threading.Thread(target=producer)\n",
    "producerThread1 = threading.Thread(target=producer)\n",
    "producerThread1 = threading.Thread(target=producer)\n",
    "producerThread1 = threading.Thread(target=producer)\n",
    "consumerThread1 = threading.Thread(target=consumer)\n",
    "producerThread2 = threading.Thread(target=producer)\n",
    "consumerThread2 = threading.Thread(target=consumer)\n",
    "consumerThread1.start()\n",
    "consumerThread2.start()\n",
    "producerThread1.start()"
   ]
  },
  {
   "cell_type": "code",
   "execution_count": 29,
   "id": "554f32b7",
   "metadata": {},
   "outputs": [
    {
     "name": "stdout",
     "output_type": "stream",
     "text": [
      "Parent process is writing\n",
      "\n",
      "Child Process is reading\n"
     ]
    }
   ],
   "source": [
    "import os\n",
    "r, w = os.pipe()\n",
    "pid = os.fork()\n",
    "if pid > 0:\n",
    "    os.close(r)\n",
    "    print(\"Parent process is writing\")\n",
    "    text = (\"Hello child process\")\n",
    "    os.write(w, text.encode())\n",
    "else:\n",
    "    os.close(w)\n",
    "    # Read the text written by parent process\n",
    "    print(\"\\nChild Process is reading\")\n",
    "    r = os.fdopen(r)\n",
    "    print(\"Read text:\", r.read())\n"
   ]
  },
  {
   "cell_type": "code",
   "execution_count": null,
   "id": "c55a515f",
   "metadata": {},
   "outputs": [],
   "source": []
  },
  {
   "cell_type": "code",
   "execution_count": null,
   "id": "d23df9e5",
   "metadata": {},
   "outputs": [],
   "source": []
  }
 ],
 "metadata": {
  "kernelspec": {
   "display_name": "Python 3 (ipykernel)",
   "language": "python",
   "name": "python3"
  },
  "language_info": {
   "codemirror_mode": {
    "name": "ipython",
    "version": 3
   },
   "file_extension": ".py",
   "mimetype": "text/x-python",
   "name": "python",
   "nbconvert_exporter": "python",
   "pygments_lexer": "ipython3",
   "version": "3.10.12"
  }
 },
 "nbformat": 4,
 "nbformat_minor": 5
}

{
 "cells": [
  {
   "cell_type": "code",
   "execution_count": 2,
   "id": "911a56d7",
   "metadata": {},
   "outputs": [
    {
     "ename": "SyntaxError",
     "evalue": "expected ':' (3458637906.py, line 40)",
     "output_type": "error",
     "traceback": [
      "\u001b[0;36m  File \u001b[0;32m\"/tmp/ipykernel_54770/3458637906.py\"\u001b[0;36m, line \u001b[0;32m40\u001b[0m\n\u001b[0;31m    if q.at <= t\u001b[0m\n\u001b[0m                 ^\u001b[0m\n\u001b[0;31mSyntaxError\u001b[0m\u001b[0;31m:\u001b[0m expected ':'\n"
     ]
    }
   ],
   "source": [
    "class FCFS ():    \n",
    "    def __init__ (self, Pid, At, But):   \n",
    "        self.Pid = Pid\n",
    "        self.At = At\n",
    "        self.But = But\n",
    "        self.Tat = 0\n",
    "        self.Wt = 0\n",
    "        self.ct = 0\n",
    "\n",
    "\n",
    "    def Tat():\n",
    "        self.Tat = self.ct - self.At\n",
    "\n",
    "    def Wt():\n",
    "        self.Wt = self.Tat - self.But\n",
    "\n",
    "\n",
    "process = eval(input(\"no of process: \"))\n",
    "readyQ = []\n",
    "\n",
    "for i in range(0, process):\n",
    "    At = eval(input(\"Arrival time: \"))\n",
    "    But = eval(input(\"Burst time: \"))\n",
    "    Pid = i\n",
    "    p = FCFS(Pid, At, But)\n",
    "    readyQ.append(p)\n",
    "\n",
    "#    \n",
    "for i in range(len(readyQ) - 1):\n",
    "    for j in range(i + 1, len(readyQ)):\n",
    "        if readyQ[i].At > readyQ[j].At:\n",
    "            readyQ[i], readyQ[j] = readyQ[j], readyQ[i]\n",
    "            \n",
    "\n",
    "            \n",
    "t = 0\n",
    "count = 0 \n",
    "while count != Process:\n",
    "    q = readyQ[count]\n",
    "    if q.at <= t:\n",
    "        t = t + q.bt\n",
    "    "
   ]
  },
  {
   "cell_type": "code",
   "execution_count": null,
   "id": "27015644",
   "metadata": {},
   "outputs": [],
   "source": []
  },
  {
   "cell_type": "code",
   "execution_count": null,
   "id": "f3addecd",
   "metadata": {},
   "outputs": [],
   "source": []
  }
 ],
 "metadata": {
  "kernelspec": {
   "display_name": "Python 3 (ipykernel)",
   "language": "python",
   "name": "python3"
  },
  "language_info": {
   "codemirror_mode": {
    "name": "ipython",
    "version": 3
   },
   "file_extension": ".py",
   "mimetype": "text/x-python",
   "name": "python",
   "nbconvert_exporter": "python",
   "pygments_lexer": "ipython3",
   "version": "3.10.12"
  }
 },
 "nbformat": 4,
 "nbformat_minor": 5
}
